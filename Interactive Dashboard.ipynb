{
 "cells": [
  {
   "cell_type": "code",
   "execution_count": 53,
   "id": "b2e27273",
   "metadata": {
    "ExecuteTime": {
     "end_time": "2024-04-16T03:28:37.357469Z",
     "start_time": "2024-04-16T03:28:37.355085Z"
    }
   },
   "outputs": [],
   "source": [
    "import dash\n",
    "from dash import dcc, html, Input, Output\n",
    "import yfinance as yf\n",
    "import plotly.express as px\n",
    "\n",
    "import pandas as pd"
   ]
  },
  {
   "cell_type": "code",
   "execution_count": 120,
   "id": "15645355",
   "metadata": {
    "ExecuteTime": {
     "end_time": "2024-04-16T03:55:51.807192Z",
     "start_time": "2024-04-16T03:55:51.784743Z"
    }
   },
   "outputs": [
    {
     "data": {
      "text/html": [
       "<div>\n",
       "<style scoped>\n",
       "    .dataframe tbody tr th:only-of-type {\n",
       "        vertical-align: middle;\n",
       "    }\n",
       "\n",
       "    .dataframe tbody tr th {\n",
       "        vertical-align: top;\n",
       "    }\n",
       "\n",
       "    .dataframe thead th {\n",
       "        text-align: right;\n",
       "    }\n",
       "</style>\n",
       "<table border=\"1\" class=\"dataframe\">\n",
       "  <thead>\n",
       "    <tr style=\"text-align: right;\">\n",
       "      <th></th>\n",
       "      <th>Symbol</th>\n",
       "      <th>Name</th>\n",
       "      <th>Last Sale</th>\n",
       "      <th>Net Change</th>\n",
       "      <th>% Change</th>\n",
       "      <th>Market Cap</th>\n",
       "      <th>Country</th>\n",
       "      <th>IPO Year</th>\n",
       "      <th>Volume</th>\n",
       "      <th>Sector</th>\n",
       "      <th>Industry</th>\n",
       "    </tr>\n",
       "  </thead>\n",
       "  <tbody>\n",
       "    <tr>\n",
       "      <th>0</th>\n",
       "      <td>A</td>\n",
       "      <td>Agilent Technologies Inc. Common Stock</td>\n",
       "      <td>$140.22</td>\n",
       "      <td>-0.5100</td>\n",
       "      <td>-0.362%</td>\n",
       "      <td>4.109221e+10</td>\n",
       "      <td>United States</td>\n",
       "      <td>1999.0</td>\n",
       "      <td>1506028</td>\n",
       "      <td>Industrials</td>\n",
       "      <td>Electrical Products</td>\n",
       "    </tr>\n",
       "    <tr>\n",
       "      <th>1</th>\n",
       "      <td>AA</td>\n",
       "      <td>Alcoa Corporation Common Stock</td>\n",
       "      <td>$36.57</td>\n",
       "      <td>1.3700</td>\n",
       "      <td>3.892%</td>\n",
       "      <td>6.566472e+09</td>\n",
       "      <td>United States</td>\n",
       "      <td>2016.0</td>\n",
       "      <td>9910706</td>\n",
       "      <td>Industrials</td>\n",
       "      <td>Aluminum</td>\n",
       "    </tr>\n",
       "    <tr>\n",
       "      <th>2</th>\n",
       "      <td>AACG</td>\n",
       "      <td>ATA Creativity Global American Depositary Shares</td>\n",
       "      <td>$0.86</td>\n",
       "      <td>-0.0600</td>\n",
       "      <td>-6.522%</td>\n",
       "      <td>2.752011e+07</td>\n",
       "      <td>China</td>\n",
       "      <td>2008.0</td>\n",
       "      <td>19111</td>\n",
       "      <td>Real Estate</td>\n",
       "      <td>Other Consumer Services</td>\n",
       "    </tr>\n",
       "    <tr>\n",
       "      <th>3</th>\n",
       "      <td>AACI</td>\n",
       "      <td>Armada Acquisition Corp. I Common Stock</td>\n",
       "      <td>$11.2801</td>\n",
       "      <td>0.1601</td>\n",
       "      <td>1.44%</td>\n",
       "      <td>0.000000e+00</td>\n",
       "      <td>United States</td>\n",
       "      <td>2021.0</td>\n",
       "      <td>1442</td>\n",
       "      <td>Finance</td>\n",
       "      <td>Blank Checks</td>\n",
       "    </tr>\n",
       "    <tr>\n",
       "      <th>4</th>\n",
       "      <td>AACIW</td>\n",
       "      <td>Armada Acquisition Corp. I Warrant</td>\n",
       "      <td>$0.15</td>\n",
       "      <td>-0.0100</td>\n",
       "      <td>-6.25%</td>\n",
       "      <td>0.000000e+00</td>\n",
       "      <td>United States</td>\n",
       "      <td>2021.0</td>\n",
       "      <td>9704</td>\n",
       "      <td>Finance</td>\n",
       "      <td>Blank Checks</td>\n",
       "    </tr>\n",
       "  </tbody>\n",
       "</table>\n",
       "</div>"
      ],
      "text/plain": [
       "  Symbol                                              Name Last Sale  \\\n",
       "0      A            Agilent Technologies Inc. Common Stock   $140.22   \n",
       "1     AA                   Alcoa Corporation Common Stock     $36.57   \n",
       "2   AACG  ATA Creativity Global American Depositary Shares     $0.86   \n",
       "3   AACI           Armada Acquisition Corp. I Common Stock  $11.2801   \n",
       "4  AACIW                Armada Acquisition Corp. I Warrant     $0.15   \n",
       "\n",
       "   Net Change % Change    Market Cap        Country  IPO Year   Volume  \\\n",
       "0     -0.5100  -0.362%  4.109221e+10  United States    1999.0  1506028   \n",
       "1      1.3700   3.892%  6.566472e+09  United States    2016.0  9910706   \n",
       "2     -0.0600  -6.522%  2.752011e+07          China    2008.0    19111   \n",
       "3      0.1601    1.44%  0.000000e+00  United States    2021.0     1442   \n",
       "4     -0.0100   -6.25%  0.000000e+00  United States    2021.0     9704   \n",
       "\n",
       "        Sector                 Industry  \n",
       "0  Industrials      Electrical Products  \n",
       "1  Industrials                 Aluminum  \n",
       "2  Real Estate  Other Consumer Services  \n",
       "3      Finance             Blank Checks  \n",
       "4      Finance             Blank Checks  "
      ]
     },
     "execution_count": 120,
     "metadata": {},
     "output_type": "execute_result"
    }
   ],
   "source": [
    "df = pd.read_csv('../Docs/nasdaq_screener_1713238005212.csv')\n",
    "# df = df[['Symbol', 'Name']]\n",
    "df.head()"
   ]
  },
  {
   "cell_type": "code",
   "execution_count": 135,
   "id": "4b62a0ec",
   "metadata": {
    "ExecuteTime": {
     "end_time": "2024-04-16T03:59:35.514403Z",
     "start_time": "2024-04-16T03:59:35.510109Z"
    }
   },
   "outputs": [
    {
     "data": {
      "text/plain": [
       "586     Alterity Therapeutics Limited American Deposit...\n",
       "887     BHP Group Limited American Depositary Shares (...\n",
       "1598    Australian Oilseeds Holdings Limited Ordinary ...\n",
       "1599         Australian Oilseeds Holdings Limited Warrant\n",
       "1854                 Tritium DCFC Limited Ordinary Shares\n",
       "1855                         Tritium DCFC Limited Warrant\n",
       "2623                   Fitell Corporation Ordinary Shares\n",
       "2738                         Genetic Technologies Ltd ADS\n",
       "2982           Globavend Holdings Limited Ordinary Shares\n",
       "3331           Immutep Limited American Depositary Shares\n",
       "3340           Immuron Limited American Depositary Shares\n",
       "3342    Integrated Media Technology Limited Ordinary S...\n",
       "3408                ioneer Ltd American Depositary Shares\n",
       "3435                  Iris Energy Limited Ordinary Shares\n",
       "3496                Incannex Healthcare Inc. Common Stock\n",
       "3723    Kazia Therapeutics Limited American Depositary...\n",
       "3759                        Locafy Limited Ordinary Share\n",
       "3760                               Locafy Limited Warrant\n",
       "4077         Mesoblast Limited American Depositary Shares\n",
       "4136        Mawson Infrastructure Group Inc. Common Stock\n",
       "4666           NOVONIX Limited American Depository Shares\n",
       "4838            Opthea Limited American Depositary Shares\n",
       "5512                           Rio Tinto Plc Common Stock\n",
       "6292           Atlassian Corporation Class A Common Stock\n",
       "6826              Vast Renewables Limited Ordinary Shares\n",
       "6827                     Vast Renewables Limited Warrants\n",
       "6895    Woodside Energy Group Limited American Deposit...\n",
       "Name: Name, dtype: object"
      ]
     },
     "execution_count": 135,
     "metadata": {},
     "output_type": "execute_result"
    },
    {
     "name": "stderr",
     "output_type": "stream",
     "text": [
      "[*********************100%%**********************]  1 of 1 completed\n"
     ]
    }
   ],
   "source": [
    "df[df['Country'] == 'Australia']['Name']"
   ]
  },
  {
   "cell_type": "code",
   "execution_count": 121,
   "id": "5ae394da",
   "metadata": {
    "ExecuteTime": {
     "end_time": "2024-04-16T03:56:15.148915Z",
     "start_time": "2024-04-16T03:56:15.145795Z"
    }
   },
   "outputs": [
    {
     "data": {
      "text/plain": [
       "Index(['Symbol', 'Name', 'Last Sale', 'Net Change', '% Change', 'Market Cap',\n",
       "       'Country', 'IPO Year', 'Volume', 'Sector', 'Industry'],\n",
       "      dtype='object')"
      ]
     },
     "execution_count": 121,
     "metadata": {},
     "output_type": "execute_result"
    }
   ],
   "source": [
    "df.columns"
   ]
  },
  {
   "cell_type": "code",
   "execution_count": 122,
   "id": "d88a2649",
   "metadata": {
    "ExecuteTime": {
     "end_time": "2024-04-16T03:56:18.494279Z",
     "start_time": "2024-04-16T03:56:18.296818Z"
    }
   },
   "outputs": [
    {
     "data": {
      "text/plain": [
       "'Agilent Technologies Inc. Common Stock'"
      ]
     },
     "execution_count": 122,
     "metadata": {},
     "output_type": "execute_result"
    }
   ],
   "source": [
    "data = [row for index, row in df.iterrows()][0]\n",
    "data['Name']"
   ]
  },
  {
   "cell_type": "code",
   "execution_count": 123,
   "id": "494b4f16",
   "metadata": {
    "ExecuteTime": {
     "end_time": "2024-04-16T03:56:21.463871Z",
     "start_time": "2024-04-16T03:56:21.223113Z"
    }
   },
   "outputs": [
    {
     "data": {
      "text/plain": [
       "7172"
      ]
     },
     "execution_count": 123,
     "metadata": {},
     "output_type": "execute_result"
    }
   ],
   "source": [
    "stock_list_dict_list = []\n",
    "\n",
    "stocks_list = [row for index, row in df.iterrows()]\n",
    "\n",
    "for stock in stocks_list:\n",
    "    stock_list_dict = {}\n",
    "    \n",
    "    stock_list_dict['label'] = stock['Name']\n",
    "    stock_list_dict['value'] = stock['Symbol']\n",
    "    \n",
    "    stock_list_dict_list.append(stock_list_dict)\n",
    "    \n",
    "len(stock_list_dict_list)"
   ]
  },
  {
   "cell_type": "code",
   "execution_count": 124,
   "id": "829a4e8d",
   "metadata": {
    "ExecuteTime": {
     "end_time": "2024-04-16T03:56:22.788781Z",
     "start_time": "2024-04-16T03:56:22.786146Z"
    }
   },
   "outputs": [
    {
     "name": "stdout",
     "output_type": "stream",
     "text": [
      "{'label': 'Alcoa Corporation Common Stock ', 'value': 'AA'}\n",
      "{'label': 'ATA Creativity Global American Depositary Shares', 'value': 'AACG'}\n"
     ]
    }
   ],
   "source": [
    "print(stock_list_dict_list[1])\n",
    "print(stock_list_dict_list[2])"
   ]
  },
  {
   "cell_type": "markdown",
   "id": "0f30ee3c",
   "metadata": {},
   "source": [
    "## Initialize Application"
   ]
  },
  {
   "cell_type": "code",
   "execution_count": 129,
   "id": "4f546230",
   "metadata": {
    "ExecuteTime": {
     "end_time": "2024-04-16T03:57:27.700992Z",
     "start_time": "2024-04-16T03:57:27.693603Z"
    }
   },
   "outputs": [],
   "source": [
    "app = dash.Dash(__name__)"
   ]
  },
  {
   "cell_type": "markdown",
   "id": "231fff8b",
   "metadata": {},
   "source": [
    "## Build the Layout"
   ]
  },
  {
   "cell_type": "code",
   "execution_count": 130,
   "id": "e76228d0",
   "metadata": {
    "ExecuteTime": {
     "end_time": "2024-04-16T03:57:28.202148Z",
     "start_time": "2024-04-16T03:57:28.199326Z"
    }
   },
   "outputs": [],
   "source": [
    "app.layout = html.Div([\n",
    "    html.H1(\"Stock Price Analysis Dashboard\"),\n",
    "    \n",
    "#     html.Label(\"Select Stock Symbol:\"),\n",
    "#     dcc.Dropdown(id='stock-selector',\n",
    "#                 options=[\n",
    "#                     {'label':'AAPL', 'value':'AAPL'},\n",
    "#                     {'label':'GOOGL', 'value':'GOOGL'},\n",
    "#                     {'label':'MSFT', 'value':'MSFT'},\n",
    "#                     {'label':'ASX:WTC', 'value':'ASX:WTC'},\n",
    "#                     {'label':'IBM', 'value':'IBM'},\n",
    "#                 ],\n",
    "#                 value='AAPL'),\n",
    "    \n",
    "    html.Label(\"Select Stock Symbol:\"),\n",
    "    dcc.Dropdown(id='stock-selector',\n",
    "                options=stock_list_dict_list,\n",
    "                value='AAPL'),\n",
    "    \n",
    "    dcc.Graph(id='stock-price-chart'),\n",
    "])"
   ]
  },
  {
   "cell_type": "markdown",
   "id": "f17acf4b",
   "metadata": {},
   "source": [
    "## Adding Interactivity with Callback"
   ]
  },
  {
   "cell_type": "code",
   "execution_count": 131,
   "id": "c39df9d9",
   "metadata": {
    "ExecuteTime": {
     "end_time": "2024-04-16T03:57:29.160374Z",
     "start_time": "2024-04-16T03:57:29.157381Z"
    }
   },
   "outputs": [],
   "source": [
    "@app.callback(\n",
    "    Output('stock-price-chart', 'figure'),\n",
    "    [Input('stock-selector', 'value')]\n",
    ")\n",
    "def update_chart(selected_stock):\n",
    "    stock_data = yf.download(selected_stock, start='2022-01-01', end='2024-01-01')\n",
    "    fig = px.line(stock_data, x=stock_data.index, y='Close', title=f'{selected_stock} Stock Price Analysis')\n",
    "    \n",
    "    return fig"
   ]
  },
  {
   "cell_type": "markdown",
   "id": "9677e488",
   "metadata": {},
   "source": [
    "## Run the application"
   ]
  },
  {
   "cell_type": "code",
   "execution_count": 132,
   "id": "e533158d",
   "metadata": {
    "ExecuteTime": {
     "end_time": "2024-04-16T03:57:31.500239Z",
     "start_time": "2024-04-16T03:57:31.013452Z"
    }
   },
   "outputs": [
    {
     "data": {
      "text/html": [
       "\n",
       "        <iframe\n",
       "            width=\"100%\"\n",
       "            height=\"650\"\n",
       "            src=\"http://127.0.0.1:8050/\"\n",
       "            frameborder=\"0\"\n",
       "            allowfullscreen\n",
       "            \n",
       "        ></iframe>\n",
       "        "
      ],
      "text/plain": [
       "<IPython.lib.display.IFrame at 0x7fde41055f90>"
      ]
     },
     "metadata": {},
     "output_type": "display_data"
    },
    {
     "name": "stderr",
     "output_type": "stream",
     "text": [
      "[*********************100%%**********************]  1 of 1 completed\n",
      "[*********************100%%**********************]  1 of 1 completed\n",
      "[*********************100%%**********************]  1 of 1 completed\n",
      "\n",
      "1 Failed download:\n",
      "['AACIW']: Exception(\"%ticker%: Period 'max' is invalid, must be one of ['1d', '5d']\")\n",
      "[*********************100%%**********************]  1 of 1 completed\n"
     ]
    }
   ],
   "source": [
    "if __name__ == '__main__':\n",
    "    app.run_server(port=8050, mode='external')"
   ]
  },
  {
   "cell_type": "code",
   "execution_count": null,
   "id": "669ca298",
   "metadata": {},
   "outputs": [],
   "source": []
  }
 ],
 "metadata": {
  "kernelspec": {
   "display_name": "Python 3 (ipykernel)",
   "language": "python",
   "name": "python3"
  },
  "language_info": {
   "codemirror_mode": {
    "name": "ipython",
    "version": 3
   },
   "file_extension": ".py",
   "mimetype": "text/x-python",
   "name": "python",
   "nbconvert_exporter": "python",
   "pygments_lexer": "ipython3",
   "version": "3.10.13"
  }
 },
 "nbformat": 4,
 "nbformat_minor": 5
}
